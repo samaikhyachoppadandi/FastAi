{
 "cells": [
  {
   "cell_type": "code",
   "execution_count": 1,
   "metadata": {
    "executionInfo": {
     "elapsed": 7,
     "status": "ok",
     "timestamp": 1674944760746,
     "user": {
      "displayName": "samaikhya choppadandi",
      "userId": "08145906806102235810"
     },
     "user_tz": 360
    },
    "id": "kggHpMhOlIsF"
   },
   "outputs": [],
   "source": [
    "# /content/sample_data/export.pkl"
   ]
  },
  {
   "cell_type": "code",
   "execution_count": 2,
   "metadata": {
    "executionInfo": {
     "elapsed": 12616,
     "status": "ok",
     "timestamp": 1674944773537,
     "user": {
      "displayName": "samaikhya choppadandi",
      "userId": "08145906806102235810"
     },
     "user_tz": 360
    },
    "id": "_gj18-JplRRT"
   },
   "outputs": [],
   "source": [
    "from fastai.vision.all import *"
   ]
  },
  {
   "cell_type": "code",
   "execution_count": 3,
   "metadata": {
    "executionInfo": {
     "elapsed": 13,
     "status": "ok",
     "timestamp": 1674944773538,
     "user": {
      "displayName": "samaikhya choppadandi",
      "userId": "08145906806102235810"
     },
     "user_tz": 360
    },
    "id": "OmmW53z8lYEN"
   },
   "outputs": [],
   "source": [
    "from fastai.vision.widgets import *"
   ]
  },
  {
   "cell_type": "code",
   "execution_count": 4,
   "metadata": {
    "executionInfo": {
     "elapsed": 11,
     "status": "ok",
     "timestamp": 1674944773539,
     "user": {
      "displayName": "samaikhya choppadandi",
      "userId": "08145906806102235810"
     },
     "user_tz": 360
    },
    "id": "kKOP_Fu-leA_"
   },
   "outputs": [],
   "source": [
    "path = Path('/content/sample_data/')"
   ]
  },
  {
   "cell_type": "code",
   "execution_count": 7,
   "metadata": {
    "executionInfo": {
     "elapsed": 176,
     "status": "ok",
     "timestamp": 1674944995203,
     "user": {
      "displayName": "samaikhya choppadandi",
      "userId": "08145906806102235810"
     },
     "user_tz": 360
    },
    "id": "neq9cKDuljl7"
   },
   "outputs": [],
   "source": [
    "learn_inf = load_learner('export.pkl', cpu=True)\n",
    "btn_upload = widgets.FileUpload()\n",
    "out_pl = widgets.Output()\n",
    "lbl_pred = widgets.Label()"
   ]
  },
  {
   "cell_type": "code",
   "execution_count": 8,
   "metadata": {
    "executionInfo": {
     "elapsed": 161,
     "status": "ok",
     "timestamp": 1674944998100,
     "user": {
      "displayName": "samaikhya choppadandi",
      "userId": "08145906806102235810"
     },
     "user_tz": 360
    },
    "id": "RczKJGmhlmDa"
   },
   "outputs": [],
   "source": [
    "def on_data_change(change):\n",
    "    lbl_pred.value = ''\n",
    "    img = PILImage.create(btn_upload.data[-1])\n",
    "    out_pl.clear_output()\n",
    "    with out_pl: display(img.to_thumb(128,128))\n",
    "    pred,pred_idx,probs = learn_inf.predict(img)\n",
    "    lbl_pred.value = f'Prediction: {pred}; Probability: {probs[pred_idx]:.04f}'"
   ]
  },
  {
   "cell_type": "code",
   "execution_count": 9,
   "metadata": {
    "executionInfo": {
     "elapsed": 183,
     "status": "ok",
     "timestamp": 1674944999239,
     "user": {
      "displayName": "samaikhya choppadandi",
      "userId": "08145906806102235810"
     },
     "user_tz": 360
    },
    "id": "DV3jBxCImBIY"
   },
   "outputs": [],
   "source": [
    "btn_upload.observe(on_data_change, names=['data'])"
   ]
  },
  {
   "cell_type": "code",
   "execution_count": 10,
   "metadata": {
    "colab": {
     "base_uri": "https://localhost:8080/",
     "height": 241,
     "referenced_widgets": [
      "d74808fbfe8a42e392a229f8d3463f3d",
      "4917ac869305445e8dd29878c7699094",
      "28ce59b6b85042bf9f0479c4f3fce90f",
      "9a7982eb8217454098ca277238e16e5e",
      "895f9154dac8474fbcadbf18a1f4fa3a",
      "33926f5bd2574683bf99eb28d1bcab72",
      "62436b9fb2bf4777ade51cbec0dcdbf1",
      "8d5e11f4300a4c33a059d5dd32172337",
      "cd8beae3763f4d6f9a325639a573d533",
      "17bae4b9164d44b3bc5dde21b440c6e2",
      "d42844491b104fe5b6e077230c5bb2df",
      "8988412929b6485a8d1661ceeec3d816",
      "9f4986d55ca141c398aecc583fb65d45"
     ]
    },
    "executionInfo": {
     "elapsed": 12,
     "status": "ok",
     "timestamp": 1674945000080,
     "user": {
      "displayName": "samaikhya choppadandi",
      "userId": "08145906806102235810"
     },
     "user_tz": 360
    },
    "id": "P9lYbdnZmFEY",
    "outputId": "c491097b-fdb4-41fb-9058-c31d3b98e6ec"
   },
   "outputs": [
    {
     "data": {
      "application/vnd.jupyter.widget-view+json": {
       "model_id": "d74808fbfe8a42e392a229f8d3463f3d",
       "version_major": 2,
       "version_minor": 0
      },
      "text/plain": [
       "VBox(children=(Label(value='Select your bear!'), FileUpload(value={}, description='Upload'), Output(), Label(v…"
      ]
     },
     "metadata": {},
     "output_type": "display_data"
    },
    {
     "data": {
      "text/html": [
       "\n",
       "<style>\n",
       "    /* Turns off some styling */\n",
       "    progress {\n",
       "        /* gets rid of default border in Firefox and Opera. */\n",
       "        border: none;\n",
       "        /* Needs to be in here for Safari polyfill so background images work as expected. */\n",
       "        background-size: auto;\n",
       "    }\n",
       "    progress:not([value]), progress:not([value])::-webkit-progress-bar {\n",
       "        background: repeating-linear-gradient(45deg, #7e7e7e, #7e7e7e 10px, #5c5c5c 10px, #5c5c5c 20px);\n",
       "    }\n",
       "    .progress-bar-interrupted, .progress-bar-interrupted::-webkit-progress-bar {\n",
       "        background: #F44336;\n",
       "    }\n",
       "</style>\n"
      ],
      "text/plain": [
       "<IPython.core.display.HTML object>"
      ]
     },
     "metadata": {},
     "output_type": "display_data"
    },
    {
     "data": {
      "text/html": [],
      "text/plain": [
       "<IPython.core.display.HTML object>"
      ]
     },
     "metadata": {},
     "output_type": "display_data"
    }
   ],
   "source": [
    "display(VBox([widgets.Label('Select your bear!'), btn_upload, out_pl, lbl_pred]))"
   ]
  },
  {
   "cell_type": "code",
   "execution_count": 11,
   "metadata": {
    "colab": {
     "base_uri": "https://localhost:8080/"
    },
    "executionInfo": {
     "elapsed": 15657,
     "status": "ok",
     "timestamp": 1674945023220,
     "user": {
      "displayName": "samaikhya choppadandi",
      "userId": "08145906806102235810"
     },
     "user_tz": 360
    },
    "id": "WMbmC1H2mI3G",
    "outputId": "9845cad7-cb7e-4dfc-a139-2749f7d47071"
   },
   "outputs": [
    {
     "name": "stdout",
     "output_type": "stream",
     "text": [
      "Mounted at /content/drive\n"
     ]
    }
   ],
   "source": [
    "from google.colab import drive\n",
    "drive.mount('/content/drive')"
   ]
  }
 ],
 "metadata": {
  "colab": {
   "authorship_tag": "ABX9TyMwf/IjcR7puK58j24ZA/iI",
   "provenance": []
  },
  "kernelspec": {
   "display_name": "Python 3 (ipykernel)",
   "language": "python",
   "name": "python3"
  },
  "language_info": {
   "codemirror_mode": {
    "name": "ipython",
    "version": 3
   },
   "file_extension": ".py",
   "mimetype": "text/x-python",
   "name": "python",
   "nbconvert_exporter": "python",
   "pygments_lexer": "ipython3",
   "version": "3.9.7"
  },
  "widgets": {
   "application/vnd.jupyter.widget-state+json": {
    "17bae4b9164d44b3bc5dde21b440c6e2": {
     "model_module": "@jupyter-widgets/controls",
     "model_module_version": "1.5.0",
     "model_name": "ButtonStyleModel",
     "state": {
      "_model_module": "@jupyter-widgets/controls",
      "_model_module_version": "1.5.0",
      "_model_name": "ButtonStyleModel",
      "_view_count": null,
      "_view_module": "@jupyter-widgets/base",
      "_view_module_version": "1.2.0",
      "_view_name": "StyleView",
      "button_color": null,
      "font_weight": ""
     }
    },
    "28ce59b6b85042bf9f0479c4f3fce90f": {
     "model_module": "@jupyter-widgets/controls",
     "model_module_version": "1.5.0",
     "model_name": "FileUploadModel",
     "state": {
      "_counter": 1,
      "_dom_classes": [],
      "_model_module": "@jupyter-widgets/controls",
      "_model_module_version": "1.5.0",
      "_model_name": "FileUploadModel",
      "_view_count": null,
      "_view_module": "@jupyter-widgets/controls",
      "_view_module_version": "1.5.0",
      "_view_name": "FileUploadView",
      "accept": "",
      "button_style": "",
      "data": [
       null
      ],
      "description": "Upload",
      "description_tooltip": null,
      "disabled": false,
      "error": "",
      "icon": "upload",
      "layout": "IPY_MODEL_cd8beae3763f4d6f9a325639a573d533",
      "metadata": [
       {
        "lastModified": 1674800742882,
        "name": "15dafc52-f349-441e-98f3-38b21844a1d2.jpg",
        "size": 264442,
        "type": "image/jpeg"
       }
      ],
      "multiple": false,
      "style": "IPY_MODEL_17bae4b9164d44b3bc5dde21b440c6e2"
     }
    },
    "33926f5bd2574683bf99eb28d1bcab72": {
     "model_module": "@jupyter-widgets/base",
     "model_module_version": "1.2.0",
     "model_name": "LayoutModel",
     "state": {
      "_model_module": "@jupyter-widgets/base",
      "_model_module_version": "1.2.0",
      "_model_name": "LayoutModel",
      "_view_count": null,
      "_view_module": "@jupyter-widgets/base",
      "_view_module_version": "1.2.0",
      "_view_name": "LayoutView",
      "align_content": null,
      "align_items": null,
      "align_self": null,
      "border": null,
      "bottom": null,
      "display": null,
      "flex": null,
      "flex_flow": null,
      "grid_area": null,
      "grid_auto_columns": null,
      "grid_auto_flow": null,
      "grid_auto_rows": null,
      "grid_column": null,
      "grid_gap": null,
      "grid_row": null,
      "grid_template_areas": null,
      "grid_template_columns": null,
      "grid_template_rows": null,
      "height": null,
      "justify_content": null,
      "justify_items": null,
      "left": null,
      "margin": null,
      "max_height": null,
      "max_width": null,
      "min_height": null,
      "min_width": null,
      "object_fit": null,
      "object_position": null,
      "order": null,
      "overflow": null,
      "overflow_x": null,
      "overflow_y": null,
      "padding": null,
      "right": null,
      "top": null,
      "visibility": null,
      "width": null
     }
    },
    "4917ac869305445e8dd29878c7699094": {
     "model_module": "@jupyter-widgets/controls",
     "model_module_version": "1.5.0",
     "model_name": "LabelModel",
     "state": {
      "_dom_classes": [],
      "_model_module": "@jupyter-widgets/controls",
      "_model_module_version": "1.5.0",
      "_model_name": "LabelModel",
      "_view_count": null,
      "_view_module": "@jupyter-widgets/controls",
      "_view_module_version": "1.5.0",
      "_view_name": "LabelView",
      "description": "",
      "description_tooltip": null,
      "layout": "IPY_MODEL_62436b9fb2bf4777ade51cbec0dcdbf1",
      "placeholder": "​",
      "style": "IPY_MODEL_8d5e11f4300a4c33a059d5dd32172337",
      "value": "Select your bear!"
     }
    },
    "62436b9fb2bf4777ade51cbec0dcdbf1": {
     "model_module": "@jupyter-widgets/base",
     "model_module_version": "1.2.0",
     "model_name": "LayoutModel",
     "state": {
      "_model_module": "@jupyter-widgets/base",
      "_model_module_version": "1.2.0",
      "_model_name": "LayoutModel",
      "_view_count": null,
      "_view_module": "@jupyter-widgets/base",
      "_view_module_version": "1.2.0",
      "_view_name": "LayoutView",
      "align_content": null,
      "align_items": null,
      "align_self": null,
      "border": null,
      "bottom": null,
      "display": null,
      "flex": null,
      "flex_flow": null,
      "grid_area": null,
      "grid_auto_columns": null,
      "grid_auto_flow": null,
      "grid_auto_rows": null,
      "grid_column": null,
      "grid_gap": null,
      "grid_row": null,
      "grid_template_areas": null,
      "grid_template_columns": null,
      "grid_template_rows": null,
      "height": null,
      "justify_content": null,
      "justify_items": null,
      "left": null,
      "margin": null,
      "max_height": null,
      "max_width": null,
      "min_height": null,
      "min_width": null,
      "object_fit": null,
      "object_position": null,
      "order": null,
      "overflow": null,
      "overflow_x": null,
      "overflow_y": null,
      "padding": null,
      "right": null,
      "top": null,
      "visibility": null,
      "width": null
     }
    },
    "895f9154dac8474fbcadbf18a1f4fa3a": {
     "model_module": "@jupyter-widgets/controls",
     "model_module_version": "1.5.0",
     "model_name": "LabelModel",
     "state": {
      "_dom_classes": [],
      "_model_module": "@jupyter-widgets/controls",
      "_model_module_version": "1.5.0",
      "_model_name": "LabelModel",
      "_view_count": null,
      "_view_module": "@jupyter-widgets/controls",
      "_view_module_version": "1.5.0",
      "_view_name": "LabelView",
      "description": "",
      "description_tooltip": null,
      "layout": "IPY_MODEL_d42844491b104fe5b6e077230c5bb2df",
      "placeholder": "​",
      "style": "IPY_MODEL_8988412929b6485a8d1661ceeec3d816",
      "value": "Prediction: teddy; Probability: 1.0000"
     }
    },
    "8988412929b6485a8d1661ceeec3d816": {
     "model_module": "@jupyter-widgets/controls",
     "model_module_version": "1.5.0",
     "model_name": "DescriptionStyleModel",
     "state": {
      "_model_module": "@jupyter-widgets/controls",
      "_model_module_version": "1.5.0",
      "_model_name": "DescriptionStyleModel",
      "_view_count": null,
      "_view_module": "@jupyter-widgets/base",
      "_view_module_version": "1.2.0",
      "_view_name": "StyleView",
      "description_width": ""
     }
    },
    "8d5e11f4300a4c33a059d5dd32172337": {
     "model_module": "@jupyter-widgets/controls",
     "model_module_version": "1.5.0",
     "model_name": "DescriptionStyleModel",
     "state": {
      "_model_module": "@jupyter-widgets/controls",
      "_model_module_version": "1.5.0",
      "_model_name": "DescriptionStyleModel",
      "_view_count": null,
      "_view_module": "@jupyter-widgets/base",
      "_view_module_version": "1.2.0",
      "_view_name": "StyleView",
      "description_width": ""
     }
    },
    "9a7982eb8217454098ca277238e16e5e": {
     "model_module": "@jupyter-widgets/output",
     "model_module_version": "1.0.0",
     "model_name": "OutputModel",
     "state": {
      "_dom_classes": [],
      "_model_module": "@jupyter-widgets/output",
      "_model_module_version": "1.0.0",
      "_model_name": "OutputModel",
      "_view_count": null,
      "_view_module": "@jupyter-widgets/output",
      "_view_module_version": "1.0.0",
      "_view_name": "OutputView",
      "layout": "IPY_MODEL_9f4986d55ca141c398aecc583fb65d45",
      "msg_id": "",
      "outputs": [
       {
        "data": {
         "image/png": "iVBORw0KGgoAAAANSUhEUgAAAIAAAACACAIAAABMXPacAAAAJGVYSWZJSSoACAAAAAEAPAECAAkAAAAaAAAAAAAAAGltYWdlcnk0AAAnPYy6AABfQElEQVR4nG39aaxtW5YeCI1mzrnWbk53m3fve/HeixddRkZ24cx0pl22y3ZCIasMkkFUIVTFnxISfxD8AAkJJCT4AcUPJCghhAAJIVQUrioQqEQhURZNVQqMbJfT6XSmKyvTkZnx4rW3Oc3ee6015xwNP+Za6+wb6RPx7j33nL3XXmuOMcf4xjeaif+T//H/AACIiCgwM4ADIBEhIgAAgLvD8uXu7Z/z3y6A5A5SpZZSah3HYZoGqeIIAMDMIYQQYpd2fdeHGLquCyEgorm6q5m1C7aPa5/bvv/TN7B+OiKev6t9tR+6ucPjTa5v/Km3ICKiI/L5Z7U/25vRwdzMzNv/3NqHtxs2MzNTVTMzNTUVkZLzNE7TmMdxLHU0N0BiZiYKnGLouq5Lfehiz5EAzd1VNQDA+hTuikjrffxTbx0A1ruZf9UWGxHAEQgAfFkRAEAAhHVN4ew6j6sDTsiAgOsnPq7rmezP7+FPf9P+BYgIhghnagNEtL79XMA/tfrzwwLg8mZEdHRwAEB3a9Ixt+Xmvd19k3uTvS3iB8DlluCdjyYnRABUcEQMy+PNt9oU+5+qXGa23AcsK4jrarfbnC/U/jV/9Lx8ePYDREQnh/VSy8P7qg3s7oj+U7KY1xHQCdBXAfjjJ89Lv0gfHcHACRCIaF0Idz/f5Y8/BwB3hHXdH7cRIpi1e23bF8DRl8UHQ3d0R3BwaNt6vXmcr05ITcERHBENETG0Jz//pHceFbFJxGFZfYezPQ6IZIvMfF4ARDBDRl+0wHFZ+lnplqVfFdDmt652AACBEBZNbk+GDmAICEAOtgp/0TUnQof2m3nJmlYBAiHPe2u+BUZoMnzc4u1Cs0TXS+OsVz4v97y+3myUL1ugicEN3NYdjt5WnoiA2IkACZGIiHyWtQf3pp3W1B/xHbOzaJYtN9GW3h5vta3uYroRAJEAkByQcJEKzOpIiyFCcrRHM9EeclUZp1kdZ7PW1qN9NM0Pt2r/mQrPykar1JyI1xesO2BZWEICAHv3YR0fLwhtu587QQBbnJF7szdmTeyzYJbfLveEBIgwayMiEgIiIJKBEVGYPxXJHdzVHVeL2S40O7d3bmL9BpEAlNwNYV2A5fPAkYCIlp+t6oeLV3jHVZoZEYETkM2idAQER0eYrZPPgnpns54b8XbX86e0vwia2H7K4i83QIttwfm9MEv77Eln0OFuzQE3g+zW9oWpzzanvdFgVR1EBKBmfIiAFyM0m0QzWwUwfygimDnRO59tzdrN6w3rA7QNCeiIq4lHQAdidEdq8gaihqvo7Mmb6s1ynP0bkrsTOiE5IjRfBYRg/ui5vT3Yum9+almbrj8aX5jdKi4o61xmi+2Cxfg/AiFEdCeAppTtt7ZurNXamGuDXeBm5ougZt/4CEDmPxwRiZAIHYGAZhOEC4BDbuusCxLx5VNnLV1ejDCrZFtTWPStORggaAKh+XNnq/MOukVwB3QXNzVvt2wI5GSAjA5IZGCEtCJMWJYTwBAAkc+14d39sPpAXHHdn5LTIw5rkmgq+VO+cHlJQz4NicwysMUSnfuMGW4sDm1+9FkDFwOAOJsjorDgCoDVCACaOS7bHNHN2sPTqiYLwlwfiRZXD0hAiL44CUREYsAzMc3bDcHdVM1MTBd1JWyfTABASM1zttuYvVH7ZjEg57YN19cAICIvtzpv1nMxzD+Znw4R0Q1nuQIgoM3Wf/U98Ljgi97DoxBWONp0c/0UIAQifNwLSES87kcACIvA0VBphqG4oOFzXcCzDYuLii0wCdfPQ0QCtMXQEhHNnn+xX8vbwdTcXFVN520+75HQgDgyulmg2VvCsq1h0WOaVYGIztQakWYB0p82+o9fRLRok/uKfwnbyiOiuwKAmSO0WGx1vbM8Gu5pv56F1Ow+vKMTCEA46/8caBKCA5oDQFigr6M3q7I63KaHbubLpl6Wb7b7cLakuOwuIiSkpsRt8yPMgmkfTe3Z3M3B1ExUVHQVNjG7ewgREMGAGZc9AMumW7Xh8Rln9W8udX1h03QE9OaafNX9Zb3mx0JEcPPF1C5O+HEHmC2m/tzyNBdo64rBbFkWl4OPWOBcFRyBvPkDx+AIDDhjeEezFT7PIAyRYIbtvji+x9WAxYMtm+RMQ2e41fbEo8ecwZIDmJuqi4nI+gzRXdsLCUkR2BfFAmzB0XIXRL7KYLlPx3cQ0HpTOOvm2W44N0qPmOdR+RavA24LWmsAB5a78HOlnN8FDT2Arcu96gI/KuGM3wHRAwAYwgoOzrAXvhPLLZq+YvD1He7zRWlZ68Uawex5aAZCjwo7AwwHdxMxU3cFBAAWxeBiiEhkSKaETOYzBF0+c346Ilj1n5AU/Tx2/qnlhj/15UtM07aBuwHY6m99DnbPpOKLjjk09VplQDSjDjozQYu+OlLbs7RoBMD8XgpwFv4/hkJnN3nubGF5Lc44t33P7bMckcgI0ZDAF+VHYkJCp7O1WTkJBzcAMwd0dGdgcHFgV9J5VUPgECjMDAwBAoKDm1Lgtliz1UPgxQf99G0DEOEKIh8FiWCPa78qViMVZq1fpXG2IssGOBPzuumauXvcE4SAPEdFCwyafwNgAKE9z+OCwCzeRbaPv4PHvQwATkCLNhjOV2+LPKsGnt3co8tsEYnNr2NYXKwDMLk7mFZF4vDs6qPLm5vL66snz56mFLVKitEJRNWLTNOYuvj1l1/dP7w1K4/LM+/bmSqaN7sDOLnLaq/OJIF+BrLP98kKbM7QqrfwfYUd56qKiI7oBCuPhNSezJvVdbBHPV4EGN5ZYAAHI+Bl966/XNzHYubmR51/54AwB9xrpEYEjxZgfSUgPfrktjmYwInc1J277ur6+vk3Pvnk2ZP3Pnj/fe4CMvRdt9KOogoA6F5KMdGb66f3h/svvvh8OJ22+91uu3ez48PDOB0B9BHCzgrIizN79K5tL9rMMK4av6DL9rz2CPMXKa9LcY4MV+ZzJV/aQ7c302q9Z5OIAAihmRWfTZODwcwoz8iHlpVfnfnjXfga9DdUOiMAWIPPM7dDi2kwAtJmuAiBKDB5TNv+5bd/9gff/vZ3d5f7bd8tzmKGIO27dqG2lsTsbrHnp5vnu92+lnL55KZLnWu9v319f384DeP9/dtaRndrYke0n7JCq51BxDNjs64+PDJBCzzHeZUfQ4xVAITEDfsB6mqgAB5D0Vkdlk9fdwDMNCH4vOy+LNajcwcCB1t9RLuTRy2H2bnS8luHRia3m29XppR224tdn/pccs45pA3RsNk++fBb3/n4m995/vwmpmSq4DOyDjwzJczs3uwpmmqD/kYIBuTOyLub64vLvRnmyVK3u7zgm5v33nvxwdvb129ff1VLMZM5XgFAxBbx4gJJz43PGR23JAHacs9PgbQQnqt7n5UMcEHH70KZdj1aqUacEZQ7OIT1BbDYltXGtVBrVZZHvP2Oe1hzHy14A0JSIFxoEUTquv31k2fXT57ePHnv6nrfdf0wDAAOSJZlu9lcPrve9r25uxohNYoLDVyUU2zr1UI0A51vhtBNVapUJ46xS27uJoDWbzpGcsBum1KK/XY3Hg4Ph/tpHEWOgCufaouzXVHmjIvWneGwro6vZufcGiFiIzAAFg1ctoWvKGX2rLQImdZ3G1iYNxM0aqYFLe1jFiv5GFNQUwp8RP5rXODuTuueAQBHZu7i5vLqxSff+cH1s6unT25iiH3fEfHlfh9iREImIiRza4xhW2gCKw6OICpWIUZuvDsRtSiUmU1MxGoxDnG72QaOKmImjOAEHgmJ1DUQP3/yJO/2z54+P5xOr19/cXh4Y2YLwm7cMtgShS2kwvznmWLiAvPfMTuLauJCvnhz6o/YowXC+M7rvQE5dABY2dBV1WFFEn8KlfpMMC1bed0FMIM/WO1o6ruPPvrubn99dfXsgw8/2O23m74jx5iYCL2LNEMEFFUiWnlKM2sktoGDu6qaKyE3XYsx1loBnRDNIcSu3/QpJSI2sxDYVavavKjmxMTM0JGyUIohUZ/6w+l+OB108efz4rrjWTiGiy7h+rMzAfjCDMJC4bWIf5USAdhKHQM03LFwU3P6BR1wYUPB3dsKYCM7G1nR3MLie+ZIY/EotPpkJHAFIELCefXTJ9/+mY+/+f3r68t+s7m4uOxDJAJAAHLCZT1V1RQRGmPUDL2ZmBs6hoDMLCKN50VEYiIEMxIRUQFAZupSF2MEb8RqUz40c2JgZI+MiJuuE5GQM2377uXz3Wl3fLh78/a2lHHerU7mlZAJUL2az7qL9gjDm4GxRt2tCeTHLFvTSELEBXgudgMJgc/3ATYYZbDuAABwM2OmxfmTL06HHncTrFHATLY6ANFCQM2oruv7q+tnH37j2y9evtxv+xRS30VmdlBfklLm7ipAQJEWjZlzzi2BQ4RSRVXbO4jIGgm5UNdMHAKnlFIXmUhUQAGgBeMC5AaeYk+BG4EsIlOeTOX+/tCleHV1zSEOw/Hu9m1gBqBaqesvAlMVJUQHuXv7JsvYHPSMwhfFR3J0cjd8h9KwRdfR51RSk8EKEXEFcsuGOcsJr6KbHUKLZduKNacwQ6UV5zoizTHeLBcz96fP3/v+z/7w+fOXF9vtpu+ZiBla7EUATAwA1ZWIgREJeN3gS+DT+KhV/RvXaepSKnFoG0JUQggxBUIANGJkD64OJuAABoZm4K4KAK4qUikEJNhuL7pED/dHBAgc9vvL7f4ycOduu4tLAlQ3Nzs8vGXit2+/zlMmtlrLEkIgLBmh1T4/WqQF8J3ZntWJ2OqcmQhUxR0Rw2rR3NsS4Rxn4HzFmeQ6B0tLeLDUPswOnwBj37948f6zZ8+v9vsuhhiQgqMjEeIMOcyBOISF6VrRX4smrNEm4GhmzNxKc1CdEEUUtbanJKTYp9QFJDA3V2iJd3EHdGaSLJOOxMyM6CAiIUSk0AU5Hg6H44nZzUxEiODmyRVxCKlvz5jHAWxfy5TS5ubJe3e3r0sps9LOq0VEc5pkdQwA6IzLy+ZAdrbYNIOvOU/u8/KaNRS0UDzuvmSP8IzuWISxmrXZDcDikbFtTwO4un7y5Ob51W7bpRAiuisoInN7Xcs2+3o1fwTMiATeXAgQGZgBE0KjFLhFqq0cCkwRlEMKgZnIwVoYOePI5nuRwc3UQmDVXKrWUlu2vqgYwPXVxWl4yDkP42n4dGDGq+ubHjonBPNNF2oOm832448/AYDT8cAcTKVZs3cXfd6+zUOskfcZdMQlDgWc08K8ZIMAAIK5BZxv/9G/N9TvALSafCekJcZdGT1oaKQtJhK9ePHyxYsPYgockIiYyWersiaYzjwY2iMrNwcN7i0OE/NlUZEIYQ4FTNUbgUfqoG23E+JiZb2xkWbOgdSs1DqcBuKQYiqlqKkTpi4eD8fj8TTlqetSHvPrr7/UWu1KQtcFppKLql5f3eQymvnzZ8850MP97TCcZvO9yGAJFZBapAUzV7hqavsRAQLMWjhzEjNrhsHdbbHly3UXq+BL5AitSIoe85SLqZrFg+iOm/3++vJ6u0nMAVe3jNiUd9m3gGCNd6MlVFkiFAVAQMMG+R0MfGX9H/cfk6PmaYopYZr1zdSIcClIIGKPyGAsqkgcQgCCcprEREplRHONKdGIqnWz6e5v306noZRyeXnNzMxhu92O41BrdfcucWiK2Ij+ZcOdbYJZ9WndGf64kjgb2NmRnwVR4OABEMwd5gB05UbW+GzOxtBy1eUjHwtd0AHNGeHmydPnz5/FGN+tOVvJlkWdV0/ucJ7TaDYR3F10fjwgDmzmItJSUsjMBNOY0YBavYeDNWrAzao0D96MrJmqiIvmWg3qNBwNzKookVZRqcP9PRDFy33N5eH2rciUc768vOq6PufJzGKM4zjmKbP5JkWTVGq1s42LKzeFjFBp+fkMXlpoDHMakJqiPxasAQDObKifrUPT6GX/LDUgZ2kDXPbSjKccARwZU0ghMBEQLfDp3FC2EHDRlKbgDsgORjhn/AAIoLZsK4JaZVA3cncEc3NEAscYEpAwN57SVdXBTa22zBoiMoGag7YQSVTG4TQMp2bHVLXWUms5nYYQOQY0s3E86StjjohYqzBz13XTMNSc83SaykDgF9vN/dGr15U5mqMwJ2tEMM62ZV7Qhb2Bd8H8Evk5uAew5hV9js58cborif3olpdLPpqqWYndcX9x/f7LD1LqznHtI5PojS15LJJdQxzHxgY0MsDR3B1amhjdzYwgqDtodUMMgSh4YC2iUonI3MUMVM1NVFzNmnM3A1Mm9Z7qSWvNAKCqLQA281IyoEemmoupqNpwOty9TbHfEHOCeH/7cDo8mMr9/ds8nUJKSL26nu/umSDRWWXmcsrl69FKNxIJwQADYCsLb19hfbXZHAyvrPWMDcFb2NuCshnKtnBkDtoJgEJIqUvMtLoms5beA1NxqxQ2Tb/am9csUVMEMJ+hjqiZgLtLqVIBiLlDZmZyAEADEFBp3hgQxdzVtFY1ExFXXSrGKwDVKrnmPI6qKiKq2ioS1PR4ONVpQjdmfv36tVmVWu5cu5TAZAo8Hk65jKby9tVXprnfXaaOiFjfZWhWyu5ML9+1EzNSbNVuakC0ELDvCODsor4ktFZp+uxm1nKjRVJzTE1GiIEDMzesKSIA7i6m1USYAiYy0xhT08RmnVxUVYmwFX6gmYiY6TQNv/s7v/V3//bf/5mf/8Vf/nN/9np/BYicwES1qKqEwIjobggmKiLq4C51ypNIVZUplxg7IjocD1pqjLFMU5kGJEQKgbnfpCHwNE4cmAhyKXUcQfLtm69Epxh7Ed1u9x5802+myWLYLJXIjxreimwNm2n0lTnCVevdl7p2AJszzAa+fq3l6X4mQmwlSstiL6Jc/4N1I8zUNhO/ePH+ZrNBnEt7vMEeZApkHIg5EMNZ4O7uZmrWDAKYgZo14Hk6Pvw//73/+//if/Wv//4ffvZn/syv/refPv/lX/75AMEVEDFGBggASBxMzVXQ0RzU6lSmL778/NM/+eNc6uX1008++WYgJAdgRgS3OhzvwbHfbW8Px+PhoZaKhKUUIqy15lJMPR7vY0qbp9eXl1siKiWH1FOtyMGR5vCoWXjAtvjNYje19IXIe+QtZ7frSqDgaN5CGnd3gLDmN9e1XWNUnHkIhxYhrxHwbNxwwbMgoofD3Tg+TSkSUQhhrYGYac5Fbu621HnrSvU08TOAOiDBqy8/+5t/89/58vX4X/2v/yt/89/49/6//++/982PPv7g/fdS5FZlZq61uhFqlaqKCAgmRY7D9A9/+w//L//m//lPfvKji/3Nv/Jf+Zd/7dd/dbPZiGgtk5Rcck6pQ9cynvI49v1GRIZhKHmQqZQpe/JcUq3SVnYcJ/Pa9R2CErMs5gCWIABxyVfiXPnQUExL4jStXtxkI6rdzOZSUDM1DbwQyGfU8mrTHvnnnzJSOP/Ll/3jr159vd9f9l0fQzSaeY9muBGAiVUVQEUWJ2zW6hKZeXXOBJBrefXFlz/5yU8o0pDvq+SHB7y8uop9UrM8iapWrSamZurCTAhgJkXK8Xja7NMv/fnv/+b//G/T6y/+jf/dv/Xy/Q++991vt/ywgzPTNA53d29ENMTAMZQ6Acg0jVprrZWYRGqtZRyOMUZVPQ0HK1lrDhgg9OjW2IZl9de0YcsyY8vlPUKVJcuIYGiPqeY5ODUnPSu4WQXs8Jjaf3cjnZm3x7QnNXG1bdUapnxRclyoE12+aq05Z23liO8GMmYGDsz88nr72Wd/8D/7n/5vLjcf/bW//hs3z3aIClY4GjJ4dTUbxun0cDre3T3c3Z2Ox/F0fP3157/57/9/fud3f9eh1jr9kx/94Y9/9GMjR8Q8ZTNDpJzHnGuIeDo+5GkQKZtN72bDOLZFKaVIznUah+GACF3qpmkUM7UZKP8UB9cgMqLDIpuZ/3zMLixK6j4nfuZSu8UHNCy1rv5Kny4Y9mwTzN834rRR3K1YmsSs1iJa3QzWGiykmcu0xzxf+1NFEJGXz12vjYgvP/rWP/Mrv/LwavzG9/+T/83/zn/51/7Cd1+/fvv/+81/9I9/90fE+P2f++QXfvhx1yVQUau51uPhhADm5T/49//u/+3/+rduD18jKQCw2xc/eRtS79UaYiPy7XZby8PD3cMw5JT602kQyXkYW6knAqlqqVOuFcdJqprbzL8Qr/ZhBdNzQIDkQA64VF2gzRmXee2XOMuXws9HHBXWC/lM6MNj8DXTD7P5WRi0OZgAXGqdABBgGobPvvj08uoyMSsT8WUI0Rfn3gQwk3HmRHPqZo2Q3Zs8iZifvf/ir/8X/+Vf+uFf+6v/2b/87P2L3/x//Pb/6H/4v/wPf+dvj9NBat1ur77/vR/89b/xl//qb/xqxM4BAOx4OorIJ9/+8Nd+7Yd/7+/+nWF46Le7v/QX/+qf/6t/oUt9wGBaxoc7BGTmfpNOA+z3F9tt/3B/D9Zq8D0EXOg8YKZ+s+v6bcnjeLxDRGJuqe51EzwCClh7AuZM4/w6Z1jTyO7uaABsZvhIjoXFTs31SQvMb7HYDGPXxWr0wJnKzoVHzTyNp9OrV6/6mHabBIG324vFE3ALOlrXatUCAEhLJ9Fq+twQMXBkoh/88Bd+5Z/ZEtn/9n/97/6r/+q/9vmrf8SdGSoEPeXj3/uHn//27/6df/x7f/1f/C/885dXT8gx51Jrefb0+i/+pV/XUh9e3X744Xf+xr/0L/7Sr/wgYijmSEDMMfU6TdM0EdFut52mEiOphq5LJY9mykxIZFqtCqMzQZe4S2kqGVThjDN7VP9mb+YscqsLX0HlHOQscb+3zOe5BQuzIXZvXCoiAJDPQpmj39k9r/9cOLQlUmjchZdcv/j8J4Hh2ZNnV+3qoYsx+lIDUmuNMcaUzG2VylJV0C5vzAQQiUJK9P/6W7/93/vv/2uv7/8hBYgxBdJpmsyUGau+/bf/rf9jPg3/0n/pb3TdTrVOedJSry4v/lP/6b/27PkH3/r2tz/+5vst/5PzMY+TiBARuJRh3O22pYx5HAFcVWqtZkAUmYObIZGZ53GYppHREYA5itUAccGXONOLDuYArTiwyWFNZp2rFjTS3AG8MQ/m2rb9WUYM3vny9W/Hteen7bO5OgoA0BB4gU/o5q+/fjWMp/GjUV5+8P5mR1gV0M0dNYZu3QetGjGE0FzxTPQvmhVCbNjmH/39P3p99yfIFkLseh4OFeasABCRwOm3/sHv/JXf+LPPX7wkABPNJavXD16+/OR7Hz+9uQZzJBfNp4d7kCJ1ur+7YzJEUFMwtVrM7Hg8mRmiMQdmMjcicvA8ZTMJAZEYiTht/LFpc/Vnvn6/UovLz2ExreDu5t6CAOdVKD77gKaGiynGGfQvWN8ft8BimdYGFQdHg4UDZ3Ryun3zFgE2m/3NzTMEBq+gGZEIwzk13dBnjNQgU6NoWl6+OQhAePbsMnJnjEQwnaaci7s1W2tmAJTLpDYx1mmsw/FhHIdcrVxMXorkidykQBmH8eHeTFWF2ZkjB64lM1KtUxWIIXjklrIMIZgBuKlMnhIiOAZKfTAkIFv6SVdDZAuXRd56BQwNzt3DKo+mv+S44MsZOYazlz6KCx5DCCReEvGr+8bVTS9sxWzn0Bm9+tevXsX0o4vL65vr64vd3lwBJKa+fVArgKC5SmLuCUEAYm6/wuWSP/9nPnm6/8ab8rWZ1lINDKk1kjgBGPj+ou/Yv/rsSxVBsnEY3OD+zav7u2d919UymrqULFoPx3t13e62w+m43fTjdDo8PBwOh67vIwXl2IYqcGtvMzOTnA/g3oWLwB3wozrDqtszsoQV3Bu6zj0Ej0lGaE3OsDwuwEL8Ayyt8efmaqm+fhQjAhACvdPt5vO1Fm1o0qLWUQnuX3/95e/8zm998cUXt/d3x+ODSfHF4p9Fv25mKqKqxMw0tzC056pFvveD9/+F/9x/BqYnImpmrgbmbs6ACNhz98u/8G0CSoFU8vH+YTodTafD4fbNl5/evvp8PN5Pp/taR1UBNTJHUcljLsPx+PDwcNvMKTPv99vNpk9dAHByczd0kFoBgHgpvn9niWZhoM+1BNBaV8Ecls7hM9jd3mwOSt5yqOtjznHAo3iXr0cWAR43yOItzv3FEp8hgnsDw+6ep+knn/7xMJxubp599P43Lq4uOG27rm/0wxwJ+2w520/UZmZiDVIo0H/tv/WfD4T/+r/5N78Y/4DC2MRWDXve/blf/v6v/eoPUgh5qporgZpMUzXCcLjbXuw2MVDqNmCCoFYn14IEKYajKJgx4ma36TZ9CNFMOVyO41iGEzcra8ohbDcXIezBG64/s/7rP9x1biAzAVeH1nGgzdAsL7ZVfO2RzxpGwlpEtNYs4pz8B3NnwmU34QJpV4+90ke++hQHJ4BWbegOt2/eHO8fDm/e7q+fXF2+1/ezAHzpg2VmYD5vDn0M2cyk+vX17r/x3/0X/rl//hf+9/+Hf/v/9O/+O2Cqtfv2dz/55/7yz337k/c2260WEZkUSp6OaCJSjMLp9HB8eJtSyMORGfI0jcN9LXk8DVOdEDUSXl3tN5s9EonUXLROJQ8jgSMyA3Lqt5dP4mbv2FIu8K7d8WWQymyEFNzA0QzhcZjGuZKunoB8rYZvcYDDEvP6+ZquJvqRhZuxz6rx+O4nNDg632hLxgWiADCNk/nd16+/fPnB0xX2tB3mC1GxBia1VkQkRNFioiJIjr/0K9/M9T/xm//Bb//Gb/zCn//1P/uNj/bj4eHuzT1yxODDcRoP967CoGOu232q0/j1l1+Aa9f1YmYqZRqnMY/DQdxVBMBCDMPpZO5V8jjkUgoAxEgxhN31093TD0JMDo/WehkRs+x6d3dDc3IwNTCAFmAtzTZnsnJcihPWaG01OWEB8muA54+rPDOtAEir311ENL+m9YKt3qn9FJd4sPEZRIBgf/gH//HNzeV7771o/ETzw2ulX8M/IlJKAdcQSGtdjZGU/MHL61//5R/+s7/x5/7sD7/5xR9/9uYwhEBIVnIeDgdUjZGPh4EIRerhUE314fZ2d3VzcXGdx8Ph4WBaAVBEx9ME7oBVVAFRpbbbiIzb7bbbX1+/+BgpeIuJzyzz/JgN6szhVTMw7i74uOAO/k7SRt15bn2Fxo6hNVfhBA7U4NFqyhsvtjruZsRm5ERnu+Td25ot2mNHJMBq3ZwJ8vjwW7/122/f3sFZu+ga08+4CJGRjsfT8eG+5CnnXEupZapVuq57+Xyfj8Obz18Np/sQrORBy3R8eDC11PFpOD08nIAwxXh9sXPTnEuIfdj0p3Eyc3U8HIfT8aRmVfV0Gkop4I7EQMjM3Wbz9INv3bz8hGJcn8mXMOURApkrWNMxhTbJYC3rW2Kxdx0qtUDNWnNu+705uLlTaLz+wi/gXPxAZ4mY+f/eig8WAqjRHw4tKU8rNvA2uWPeJa1jmwGQgMZxvLs/hhBXtVpJwJYyJKJ+05np55++Ma1Sp1rGPJ3MMrrd3MR/8Ft/ADTVaSLR7aYDAHfd7BIi3L69j3262u8vL3bMrFKZIlKQql3XIVEttaqKGyJyYENoUo+BkTh26en739xcPaMQYOEs/V3mx/1xKocv5Oi5qNwN3GjpUV0MxYxUEcAbabeM6/E2S8dprRxFWHm3hVRd3e/K2a1NNqvQll0y+2heOpsAWrTsSOjgKPqTT//47uFAS90nLGF9C8cQIMR0c/MU0H7r7/9Hn3762TQ8TKeH0+Hu7u3bFy+3b19/9fbVKwaIIaYYQ6AUKTAM48SBnz+9vrzabbc9gu223eX1Zdd1kZmZzTQQdn236TchhL7r9xf7rutSSkCUUnzxjW9ePX2JuFrjM+t/BhHPulZnS48zAsFVVO+szbImzc6zOzyOU0FEDK3QkFfn+rhrVnRkyw5wXNwyPNJAYODoRgCOqDQjL0NHBTMQokhsxP1mt9tcxtB/8er26ZObdd3XJ2w5A3DYbLff+e7HJuPv/96Phg+vnj7dEyKovf/Bk8uLeHufP/zgeck1jycEiRGOQ5EiH3/4/tNnT2MM0+kY0Hm/3+62my6aeaml1koE2+3W3PM0AWIfWEWaUt88f//q+QdusAwI8p9a/fUnrb7DoTmHxd4sgHreMfC4SjPKcKJzX3K2zsGwpSX9XcPeOItzT+KPAva2L2apzNdzBLC23cTNzPv+4v0PPvr+z/3Czc11QN5ut5vNpu+iuZlqCAEAVlA0Z2xMYwjMcXd5853vfe/Z8/2br1+9ffXgpvtN3G/3my6NRUIXRCZkULDPvr5PTD/zvQ93u0skHI+H4fDAIV1cXPSbbZWp5OKqrTyYicEtpgQIrdJ9ytNmd3nz7P2mS48Lfb7uDerMwwwAEcAA2yg/aK0UvoIbWD2kz6uCZ2bqPISYBTCbj/N2jrMVP381LmNKVh+wmqJWn44OKO5qFzfPfvbnfvG73/7++y9ebve9oxNyo4EatFCT5oHbujOztRyxSQwJCc2QmRnjxcV2u015nOo4mulf/HPf++yzu8P9qZbp1esHVfvw5Yubm32MYRqnw/3deDzt9jvkwEjgWkXNJMa46Xt0cyJX6Louxa7U/PbtHUB6/v4nMXXn4xLWR2463na5g7daqRVP0qOhelT/RQYNlQN7K7RdLNjiV9fxDwEfaed/igk7T0uussNZGrMfBmBwdDBV6/r9z/zgl374K7/28oNvhECBW6cQIAE4QauCm/32zIYCABGJCIYQIBDNY2zETNXcUCogUOq6EPH9Dz547+UzRyg5bHZbJgTV4TTcvX5zOh5VJaZIzMW9lDKOR+IoOZtoDBEJiTmIVhFVy7nGtPngxcfb/V5M4XyIxzuSWFCgwzyjb1mad1UbVg96vn5zA8W74lnT9zj3B8zlu2fvWwPuhdh299aANA9penwptsEtJsbd9s/++b/0s9/9/ma75VYQQohOPN8Wmi9dhPjOc6oZM59R064qCJ76PXKkfDIpUqY6eSlTHo85D2YWU3w45TrlnEdRcWQIXNRNlUPYbPsUkjkikYPGmDiwmQnZVGudysNp5BgfDm+rTt121zKOK/qZb8/Xv8Df6Rqzs/GUPy2D9q0RNCPuZ4JZ8Lc5IgMRtpQkLPUu7j99IV/6nAHAvKWEEGENoADcAKrUzcXN93/ww5/9mR9sNhtmPBuW9+g6cJ4ZA0Tsbg1XtUsBPnaE1VqlZhMhJqtaSkFTCkwxcgix65CRkGPqUldLLqoipsOUy5SH4UQh9d0uxk0LAikEqEKRzf3+cJhyuXs4Hg6HcSoc+PbuLqW07fubJ8/2l9cU4nly4twfrEUK5PMslD8tgObEW2+ZOwAt7ML6tUyvm/t4EYMChMZjnKn//JEAK6c6y+DsQ5ddYgjpu9/5+Y+/9a2XL99PfQqhBdazU8LlhsyMW/+32RqqMXOMsfGOzIyIIkJICIQhgqmUaiJSMxEG7ndXnHNiDkhBRaNZV6XWMo4n9RC432y3gBTjBtCKFjGsohRiqfl4OJ3G4bPPPz8cjhi4T7u+3xKnGGKt9vbtm+Pp4fr6vX67RSRrPro9u88cl640wZ9aeXg0LyALLGk76B3QPtc8o4NiG9q3rNJ8ifOg49yc+Zy4nCvXmzqbGRF/92d+8HM/+wvdtsfARE7UroiA4KoAaOzeqm5B55pon0VLiCFE4GCtYwpnTBdCBGST4u5AELsOkNNmg6gVIIQQOOZcvBQK2MXgiI5sZiUXEVF3U1BFAUAM43j66utXx+F0vL9/e/d22+/2Vzfb7T7GjYj1fQcOuUwmKAZPnr4ch4fxeARXMad2s7ZQLA124jw3C941G+/KpZXIreUlyxZoxBeRgxNQM0Eru/QODFj/2fIAft5C0xCx69MnH3zvOz8TUwAwRmrhNQCgGSK6uYETAgGoKcyXmWvuAACJQAyBQqLj/cm0NoYR0Vy1iFPouk1oKNpMd9uri6uXbjDlseAhBE9A4EphBDoiYN0IMQOAmU1lmqbx7vbu9v6QBaZJRPRid/H02Xsv3v/QnFrnwXa/m8bJCJ89e/Hey/dvbm5CjKnf5nE8PNxVqTO3M2/sGfIvcdg7X2e0rsPCcJ5b/7a3CWhmjKDlA+aCff+pdV9x6AJDF/bGZ9Jtu33yve/+bL/tiJxamxC2dFXLAzsQujSS3FRlvcIadTcHILnur/dg/XiyUs3dWgkXp/6i2zJTOT083L6q03B18/zlhx9P02imu4fx5tmTGGOdxoeHu9vbt3XMtVYxNTVwv0SvUp+998LtuyF1/9E/+t0f/f7v7i+vnrz33rOnL7LIlLM5bTbbi0sDomfPnm+3O47x/f1VKdPt21uk6KC11tPhPo9jWw2DxbS4nS/aSuguThy8UQ3nFENrliQgAXcwxLDgH8Q21qpVo3jrdl3arxoJN7dut+FyThQ/+eQ7L16+F0IT7UIjLQJTs/bpqtpy6bAQD6tGEBEi1FpdFNzMBUDdrfWXIVop+fD27en+dZ1OMW3B6k/+6A9qnpBpu3/adREMq5Y3r7588/XXUoupqcrjEgACAhFaLa7Ti/ff311e7S4u+s02IPYKm8226zpYvFHXbWKXUkwqfYzpydMnAH46ne7u3r79+qtpPKnqzCjDqnCA82xNRgQkb9qMTIGJmM4N0Dy4ExEIzA3NQxecEJGMEJgR0YiYqYXPgC5OiG3oJxCSETV7yO9/9Mm3vvXNGMNKW5vNLFQbeUOAsBRjrcMe2iZQ1RDCWhLqplLL6XTKubRWkVLy4fb18e5VGQ6mFQhDCJzieLq3qghoDnf5i67nENPnn/7oqz/5o5JHRyempWefkXgmzcyK1k2Xtn2C1G02mxC532wDd32/aeP0mYO7b7dbCoEAIUZEGMch50xEz5+/uNpuP//8j46He5jJn4WLcBBGRg5MkWPfmboBICExMhITMAeKCSNjIAjkAF6joTmphn2qs1zWcsI2QgOawfJ5LBsQMs/jId02V9/47vd+tu+7tuFaEfgSJ7cSBwSY08AAPo/aX+AdMzX86W4cmALWUkvNWsda8vH4cLx/Mx3uVSqiMScEwtADxtNwRPFus4tdur29+/Kzz159/hOZjn0XMKWqumh8K89uPQQuZlVrCIwEMYUuzV8xbTabbQghhIDIIRCFiMxWRUpuZmOz2cyGpd/0/V7LQ2J1c1+6idzBFLQj0VgqqFCbre6wTOkDQMLAzqzM2OpPoouhO3jYbxTRGZHmYAAcxHGeiMNz5ouIicAZGqXSv//Rty4vr1oXKgCoKS7CabSfqHib8Q5uNoP9BVm5u7XOaSIyNWb6/Isvcj6RialplRQ7vnxmbmYVVAlsu7/eXFymzbaMksuIcfP0/avrZzf3d4duswMXl0zWJtUjABIxcWvAVSsFKojWSIHBA1NKXZc23WYbYwwhdF3fYpJWk1TE2vyKi4sLkXo4HBAROeyunpbpbst3AWGugG5Duw3A0IxF0WyBsN7m7sBC7wOTAprB3A5k6IYWLhKg61wLBGhziWJLOLSBuG3gIRECEwHg5um33vvgmxyIKTSD25YZAFp8Bqaqcp7d5TAXILk5kJnWNkkRQhCRGOOzp89qvZSSp3w6He/RCN3U0HATEzOaiZ1ub6X6iw8+Rg7qeH1zdX93q84xpYury9dffjGN91Wmftv3qecQY0ghcs4TqwLYOBwKI9FVZznFtNlexBSZqNWBEREAt4bG2EU1cWczm6ZpNd8pBfXulOnFRV16pdcMAVqbGGdJDcx15i3mFixXNwRrdJ8yuLmqOWmIQdeN0jDnorm4BGJt4KG3gawGYffkg67rVSowrOOgl9KuVvSvLcHSxgKbOThQYGY2N6kCqtqGa3hyhxDC/vKCCEsup2Nyq8Xcu3D59Onu4roVKeRhKHkqudzd3908ef7s+VNAur8/UgjjVG6edu+9/PDTH9f9hlXL3d1dYI4pzm2iAA93b8bhuN/vHd0dU9/3fUeBESmmFJgBgIiReKEZ5hEfKSV3FxFTFfWL66fjEaf69UWfG1qkGRmurA8BoDmBtwuZqRm4LNniNgreyNv42tB262MoYTNTtJBuj/O4m4L3N9967xs/y8y21LKdBSNuZqrSQGSz+IEDoopIZCIkd3UpVqsDGHgA4NBzjE7U3ARx3O1vun7Pobu+uWnwjjlcXV47wJSn4XRs3Nk0TlJr1yURORwOl5eXT997yQjD6QEp9H06nQ5f/eSLPB1ioOPp7uLi8ur66fbi5uLqWb/dhsgIxDGEEBpbkFJyRJNax9LgQ6ML29xlNdttegarZfrJ1+Eb1+VqM891d/fHrC02pDoPhPcWcqpRyyEAgLfu2jmHEBomWdYRWoURLugT5yCYGtQy2jz5xs9v95dNJksl4Vzn4+7mKrXaEkiXOjlYil3LaFYR1SJVapkAnRHN6XITibgx1USYUgKAYNZvt7Hraqlt9HiL4nfbnauaQyn5dHhwkxBiYB6Goe3johkD95tNiN3T/XXX7V999ePD3euU0nsvvrHfP91f3ewuLruuJyKi0EZpE0IIkegxN9c2NDNP0ySqpg6AudTb27el5G53czeFTToQKpxXMa8xgTvY3Py8VkC9E2lZs08Q1vrk1T36nOw0RG4RN4EroAJfPPvezYuPzSSEEONc1CUiTX4AIKq6fJyKaM0ILkSq4qW2XWYIaoDgXguHDRPBrBHzOIOWJtxsdw5AwV2tBbeIICpTzrvNtkzTlEdVwTbYpsjxeCRCJu9Sgg7BOYYu9bvd/okZqE5Pnn9ju7vq+77fXXTdNsRAiI7ITM2lrrXDXde1VplSiopKrZEDh8QjEfF2d7HdXd7fvzpUuYgnWkKfmUhpiggORo8nCixGYs3vNwgI7mHFJ02GSxQ8Z2jmi7akY7i4+eBnQoyq0mo4V9JCtbaAy3W+Ojg0OkYguyp3naqiWos1Qox5HCKFzWYzVyoCACzjB4k4da2BgIhsOSGCwA/Hg6oCgouWnNf6IkJSVRGlxGrKFLuuQ+TNdsf8Yn95cXy4pRB3V09C4NRtQgxExEQxpaZ5ql5raY8zG88QiKjrOw6cUpSap0iBebe/il3n/mQ6ocjnER4ep6efhcSzzT/rRoLl64y8gGBL43AD6DAn0RiBlyEc7VeWds/7iyfNr6pWxEdSwWxG+nMDMKCZzp+jhgSJosA4DEfmwCm565RP/cVFjLGBhHkqUUsbILWEJTTfM4/BQxG5ff3m8uKitRbzMiEtEAqhmoNZzaKqV9cbwlDKJFLMPMbu6vq9mELX9Q31N7OJS014k0FLz4lURGCOIjWm2GYzDqfD/e2bu9s7x7C72I/jQcqUus3DkS6jBQBdz6/yZsjbDKvHZV9ls0qovTqAPx7XQDPbwAu3QNAyWA4Asdtet2bHlCIA1FpbWcca3yJiCGE2ge6iZT5ai1VqKTnnMjKFoKYqANz3O6LHFsm1+q5dtUl0Ll1CRIS3b982Z9sUPzQbqAJemYwZFMjEUUVEidTMYuxS2qoV5mhWzZS5O2cFWr276TwwDRFjTM0mM7NKGYcHLXUYJxHbXV5eXF3XKddxUhHRent75L1f9GhtmoWTG80z3xYFhOUkhjM3sMrDA1KbgAGA6KAICKgwS2DmiAAJ3LXmWgszq2ngeL7dVpIHG3xCUJMGkFUEmcbjg6uluEFiIqqlXF493WwvODAhmqm1HBEAEvJcLWqoNl8PsUp59dWXrQ+5LVDXdcyEqO7OhAlCAXd1RKuqF30XYlDVrk85m7tLziIlhMulOH7OZzTHR4ghRgDMObdTDaZxqlUkl3EcRWrq0v7iopR8vL/LuXAIWguFTqy6acvog5sDusECYqzxjT+l+49cKQK5kRu5c1M1mMlmNFvSbg4zNjIFUHeVqusmwrP8QXPIS8GPEWFLweZhKNOkqkicNj0wAtH24jp0PXBYm//bCAtontQdWyvGMsz59u7t8XjXdV3L2yBi13UxMLm3MlTABmmMmEIIBqCiWkVLYQqNpxqGo7uH0IYIOgAwRabEIXJIc4sAM7cwmkPgBMRiiswxpmmcHu4ecqnXT571m81pOgFiqQLobazw3AgzE8O2lNu+kypY16qt7jKqAHyelwQBWzcCNHEqoiGyAafdU6aICACqIhwexxy03Lq7E5Go5OkoIg7uUqfxsN1ehpik1kDkANM0MlNMaWkpt8cEZysSNXdr53lAm1lh7l9++qm7t2ks657r++10OonLZrtX0+PhUDAAURfjtu8qUcnFAZm5Q4xMx8NxGI4hBkJaZ5G2si1VM/MQqFnREKIlq5qJgZhTvyGMptZv/Prm+fZi86N//I9qydNwqjY8u9yAzzh+iQYQICximF1jI8ta8Yp7a9vw5dwgd2xFc25qal7Vi1lVFVVRLUjMaevmcHZA23JeCACAqpqpmZlUqzV2CZFPxxMChbSJ/Y6YBfxwfzc83HfbC059yzHh4kJsmU/s7jjXHsy2+uFwf7h/6PtNWE4daq/stxvuNsRMgff7fdf1iKyGADaNgwNstpvUpRattyrE+/u34zC0z2r63j6IiFoeojnRWss4jq+/+vL111+CCgEQE0fu+qA2/OgPfvf+7atIfjjc5bGYzWtOROfTixcFnXM3NvsEl1bXZS6tP6ABATdEIkdFt2VMzQxMER281nJSndQIITiZlVGRu75TK626QkVEimg1JnIIzDFGjlvnAIiG/nD39duvPn/+8lv7/RUzrUOEiFzb+BlmQGzj0s9qbvzrLz4Pgbs+mavbjLhVlQOHGLGQikBK2+32NJxqraVkVes3e1VjBsRWVAXIPE7jMB4WBhQbclt1CJfnJiIm7FLX93tGqtNU9TgOwzSe6jjc3702q/e3d/l0+OjDy5bhAjBYvKY/2tW2tLB0I4N7Q6jmAKYUzttd3NuJMo3TtHkaSJOouUwPKqqlQsLYykmZ3YEpAmItxcxVxKqoqYoEDu6GobX46MPDq8/+ye+Y+kff/oXtbtfO/BB3WngO4sBrs4Y7IBohA56G++PhfrPfMYc2gHDdGgCh67ppyohYa1XTEIKq5SK7bez7vtZa6yhV1nycinz55adV5EX4YA2AVkDRAuBSs6oh8f7qSeq3p4fbcRjG43A6PTh4889ff/WTaTp+48X+yfWm1WA1Sg6WY0aXimo3BAc3dG+TLlvuG+Z8bVi3PzxmqVpwTkvxJyGwu493nx6vXl4//9AVmSimHtuRkRTMjEMEVPOeYseq5jKNAyBbETfPU/3q0z8mxyfPv9FtNot5QWiZbkAOAUN8VIVl2L8xfPGTz9C973ew5CofwxiArus3mxoCt96CECK09UAupahqKdVU1C0wEzMzP7x5/frrr8Iv8ssXHxKS2hLBEM0XB0PCFosgQOm24ziKClJIqYupe7h9Mw2HJ0/iB892S/4DAFqbyewOvbXNtCR+m2ZtYAZuaOpmaAbm9tM9YojIDERhzkwCgJujICLk29uf/H3T8eLmI9q4mXNIXdetZVotqwcAZl61ADBRGocHqHr36jNyuHr+4eWTD0Lsaq0YmChgm2WHiA4rn9FSobUaJ56G4fbVV6FLTu4qIrWnXSNYmsXgwCmlOaoyE1GzAhDUfZqGlDpsexUZiUydEF319ed/8h9O4z/7V/76zdVN+1BiUrXGKxAyIIoJIhIzhaiGiHRxebW/vrp/8/XD6WGs9Wpz0UU2fWxJeifOAjAzwdnGm0HjRc3QbB5yZmZh3YOACk6tYRRAiFve2dtUvuZXyvHr2x8P+XTcPv1ke/Hk6qojmmOxc6irqqbW9Zu+6zebze3b16XYzcuPLy+f7i5utpuLwNEMwDW0KxPDclZD8+0GEBIxwusvPpM6xS6CW5u0xssgy4UAFyKYydfZLpGaoiKYArpIVbWYopmJSp6mh/vbLsS7r7/4vd/7rV/91b/QnAoztyOY1joEWr4uLy/bNyUPb7749E/+ye9/+dmnu8TXl5tWXr3e+bo7YTleTNFtLvgDteUwULNVgcLqgnA5F2A+uW1uTsK1IqNNUq251FL6zcWzZy+Y53SAz4OlZ59my5ZreO7Z85f9Zu/um80mpdT1G06RZlyA7g6mXZdgoZ6cZrJ2HIavPvsxuFLoANlkwqZWtQCSqzkYmDGRyDwSDsCJqU2NC5FFSoiRA7SOFJVap4EQu81m9+Tp1198+g/+wd/54Q9/7Vx5Y4wt0FubCVfK/YvPP/36iy+/+vILcvmZT570iVqyz8+a/dv623ycRJtlhG0emJ2dxDq/3mEeFgBt9mUjtgjMCNBpWSQiasnPsH358pNfffrRdy8ubwIvE27c28O3bx63lGmjGYhov9uJCnOrsY1o3s4AAJijvFolxiiqUqs7MAIhfv35j8twt718sr+4QiIvlRBVigKEwHPeEcldiXTt+CBkorYuzCGqKDhULW16p7ns9/t+d7W/url79dWf/JM/fPHeR++9916L7JoatUdoF5wLZJi7rru+fvr0xQd1PFz2L7swqJSGvEXV56P2WuckzLPYZmLfRWfVb/5tUU5087AQpALIvGRm3BeKDHHOERhurr/98S/8xnsffDOEQPPxet4Km2ut7Y7dnZlNRaVwiA1c53FUq+4gFIgY3JkDEbaYtnUAmupQ69dfvQaFi/1+u09jmd588RMKHDdbork+ZspDt9123SYw49rwjWJmA7SRD8hIQKyAIsoU24G6qIAAprbbXbz3/sfb/ZMYwsXFze7mpTuGGLuUGgZrT9GWpcmgiYSIzLzfX33nF3+VXIeHNyjH05ufiNxVE2iNR+bqKg6mru7oijiXZc5gHwlmNNpmay3zghBDS1HRI5uKTEjsgK7gITz7xg/+ynsffDMEJkTEx+hXRcC9irQEntRacuEYYkyIWKuKKiA7eJkmkVzKpt9sYwgAEEIQVw4REUnFaz6dyqbvnbo3r74o5RS6noi9TlOewNwEHYCZ1/K3KtVdATSEKCJw1v3aOhxFhaiNefDU9fv9e7v9JVOIMVxeXn7wjY9iCGvz/tqqttqKJT+DJedaym637zcbM+P+mkiNN/knv2N6MEQ3dHN11GaLluKI+aRtazZ8njSxgp6wutDVi54HEWhIhBx2z7/9609ffLA0BVgLl9zd1MY8SM0iGuMG2pzPTd8eqQkppjT7NMQqkkt1O2mXVruJzeCaXV3vzU79Jsh0vH/zFYIxR0ZUERV1xD517RjEdqsiqibg4q5EDY0rMQA6Gdk8ShXrlEPqLi6u9/uLbrtlDuSP5nG1nNhSGotFbW6AifM0OUHXd0+fP1NV5lBKYWZHHC7eg80T0lrr1NIgjxYYELxlYHzlpXEd4YzQOhsfYejMZa7vnuGAmuLly++8/90fhHmMhgFgmyJsVqtkU6m1jsOwv+Se+91uJyp5ym3ydZPE8oSEbmUalalK38xc2/jN/Ww2O7ny21efm2Zy57RhjuBgpkyMkVPqiElVHUylqlYt1USqVACMDKqOiE6sAGBIFIrXqn51dX15edN1XRtKcXaU0az4bblFqsiMSuaEcIIQN6ruYCGEPJW7+zs1JSSTykRp97wO92bDXIwCAEvHcPtucc5zCwjMR2zMX6GBoaaMM/MCAOc5Mt4+/fD7m81+rXMXESZempi91V7UKUtXw1VYmTVfSJsWzoiqaTXJmkfokrTDSBBnOM/cAp+UYun6MmnXb0mNaEmLMxFxv0ngrfSiSJ5qztM0OpiIxNCHEGeaqjU+BATE0yD7q6urqyd93zeMuzK4baGb2ZkFUIuIEIeUOphLPYxD4ICmLjCZ5Wl8OByPm36D7iVPWlWpQ4xmozuotbFZS7fiLGNs+6AtTDv5oe22ICotHdr24Lp8RGSmQPzeh7/03off5naCDkArtzQzcJ1FDZDzaA67yyuOIefcdigzt/7/ufDOwVzblGasamiDHkMIKSUz44CqKcaoZqnrARTMeYHVHOMyz53Maq2VALXmeWy3GVOIKQESmjUA3QDdMA1dv7158t6KcN4pIWhThETU1Ey8moPF1BExMzcDoiLTqCElRFcVcukCvjrc3379RUphGMb7h/t8GqEKqC/M0iziJdc09+z60sWnqrKc1xdaIOfvDvqfL2B++d53P/rZX+9St57LPfeouovNw7DUtJTab3bb7VbqjIhUhcOcOZmjRKi1ZlUTqb6Mr2ZE2+6AIBgLiVlzHojEcbthNSmFQzBVUelST8SiYu0EBwVEjqF3MGCO/Q4RR71H95ZoqyLqcHFxvd1u15nK7u6uq9mZ65fcHAydYuq7rnP3WkVqJQZzy9NYpMTAplqqmqlpuXv9SsHURGrN0xRMTQWXExsBUNXcBQBwnlBoompzdY86YAOugZhgnl0+m4sVePX7F88//qXd5dWjSTEwEHedJ4UgAaCZcuyvbp6oWc25lhriTDQCQK216zogkJLH04DgZmKmzFFrPR3uASB2SVUJTGvZbC/cIYTOHYwtxq2B1TxGCin1biC5IiMShBCRIoU411fFSIFNNJ8OyASICnB9/Xx/cRFjXPb0Qs0vKTwzc1cAD5xin5rii0jJo4ERYM5TrRkEIXVIAKClFFPTIqfxCGhqOmXt0EAVsMVMbi7qpjrXBjKAuoupeute8nnotFlobFSr4CTCEEIMEcAd+enHv/j8w28jgogwByZSrU19zAyh6RQwxv2+iymVnPOUQyBwEzUzsWWGoJaahwFckKKIInoIKXVdNbVGZpkgeJ2ym3WbfYypFbUDmpfKDSBOJytU68TEtNlwSkhMHIgC0QxgYkwSAhA54v7ierfbN9p5tftrxL7QAcVdmKilYsxMtJgqoqHp6ThqLlrVCM1HchgOo0xF8mSk03jKJaeUSs3E4u6gQgjzRFoE8xatW5mrgwyRHRnNFQ2czLFVZrOItDqBEAIxoTtQijG24EWlMBHFtBJ3hGwOZkIAIXTYZo6oiBTmqCZlyu6ujkysdZRSzFqhkbsjByx5CKED83w6eorWju50LzUTc2CWOplMUkopk9QKGLpuY1a15th1ITDFrpaMHGK3McNaSwyRAqXtDpCYQ0uv09ls2HVU4wL8RLV4FQoxbNBNSi1mUk4DEKqI5VJyphRNtIyl5FKmUUS6vgtMVeV0PObIRN6OADbwai4LzQCIrebBDcwBkAkRTH2u3kcEeuSCml7nnJGciANbPr1RE9ViZiIFAYmh9fm1QEdEZsYCwbya1BafubvUXHOGkLDvRRxcGovDzH0XxnEIgXM+mbsK5QmZebPZmsk0TRwiI6hoHU/TeDJEjrFLPYc4jQUJEQNxJEAVYcRaRwKYTqPEQDH1/Y6ZzXxNeK2AB5cxvmZWJdeavaqp8GYDSCVnlzoNp2mc0qYvU66lOAIS1mkSkVqnWnM7XMJVCSFPJ7XQ9Z01ONAiL3VVtHbUA/I8eKbZL3UzbRU97a4eRxevm1SrApgFHY63dTgEgtRvWv4AfelPaplL03kMJqCJuCqYSVZwkzqdTsfU7VLqAMGQAMjMRXOZRlN1pul0dFdippAgpePDGyZUhdPh/uryyjWfDrccu93+WkRa2IJAyKmxxA4QQ6QQVaXUaqoCvuk2Mba4zxvVsQQ+6O4+E1+gWqwWEDHJjpC65O7gWoax5hK65DrTikh0vHsoZVKporXUbCrTcDKvtUxqEoAZsaqrSiOODQigAYGWrZ/1eyU2GunZUEBoDTozUJlJCK41l6K5VJnTpMqc3Fo97rz+2EoWTQlRRKRWEW1nEtYylWkcT0Psdo2RMvcYE4AeHk7TMKS+bz0g7ibTxL0jaD0dQ5dC6rVmFXFA7vrt7iqEZDYPFAoptOhPtYaQiFlrrbUAeAgBiPvNLsZoZ+nlNdKceS0AV7NStZYYYmAGhFqqa2mFzMQM7qXUnMecJ0SchoEIap3AXXI2ydN0eri9Ox7uwQ3MEFzNqmiLKwFg7dJdLd5arTzvxXVo3wr/mxNDxBDYPdRqKW5CSIw4HI/zUWRu0HrPW/5IBAHEVEquNZuZarWaVWQ4HaRIjMFqxRCaFMbhNDzcExEzlnHcbNLhMIzj2CEwpJJPonkDPp4OXxJcXt7E1DFjzqcqCgApBbeap6Or1n5HGypzeSiGkAC53+1bALXCtkdiAJd6ZPdSx5on1brpNxSC1lpVa63mRkyAcDyeap1yGUREclG3xuuXWsxKKfnh7m4cR1OZUaOUlgY2AzP5KW+/3saKDAHAXVtyNdRaz91UE08Iwd2QQKXwdpunXIYhpDjnPVvnhnKtlQhLnabTAG4qZRyP3rqrTQhSbKwnogAcx5PkwXQyxTK6iodNdzrcShUi8zqN4ynGrk+9S777+vPtZqNDycf7XEYOEfpL8Hh4++Xx4U3q0mZ74aa15oZBq2TEAOamtvSUw/rM7nNKCQBqySq1DT8xN2ZyRVM31SYhM1HNKsVrrblYrcCca5aaa8lm8vBwV/KkWkTVAYlIVF1KC6Vakf0MVRbDro+mT1shTFMSRwgiSnQWfLm30TpuEGIXOKoaB641uxmHFtoZIapmd8i5qhaVYioljyIFHWrJFGO/3baOPbEqddQyasnu3qaup64z0DwOZoZgnjoR7Tue8lFqdo+SB5mGaTxUld3+Bk0e3g7j6UGmQSbe3xwY52IKA4+BCdTd1AsoxZC8BXvgLdhyD3Mnfs1ai7siATOCu9Sax1OZatfFUuo4HPLplMukWlUMQPNwAjCpOg5DDJinsZRccm4nDTp4LcVcmFsh0GMdnJ8RfLiMAZ3nkzC3Qq42tKdVsfESKJq3UdOmInXKzsQi4qYODVNDqYKIUqWUSbVKzSqSxzGmVGve7vccQ5Va8pi6LbjWPObxlPNIhEBEhDHy7ZtXx8MhdTEEHIYcYocMx9u3DhZSf7j9Ip8OUrJzuNhflePt4f5tSr2byJTL8T7GnjAiIgOBulhWr6YBKarVBrxb3aNK5S4SkdTazph00BBi4CBVpFRXSYnN5Hi8h1JrmVRzLSWPI6WoWpm5SgG34/1pPB20ZncgQjVVU6kZl4H14NgyX7icaOVLemdN3KrqfNwaQIgxAGJrLGrZOAdAMCj1eP/l8PB6s93xdg9gDUIREQeqpSBDmUaRogv54yp5yEio1ctkDqiX4q6m2aSqFLNqZt32wq2eDofT3WuwShhKHkspF5chD4c8nhygTKdIUvKIEFK/mYbjeLw/Przd7fezrpmbCLCDU0w9uDKFwMHdyU2rLWN+vRXTz0SLeyu+M5cGVYfhKFIA2tTXyUzMxcBMdBoGNYs2V8qUnPM03t+9rTnnnEWqmaxTHlqB83mQMRcaurezl5ofXveBuaMptJxwK9f2+Ug6ADRGIiavw3R4Vcc702ep35tJKSWGMJe2CJTx5Gh5Gt0NwdyUGUTraTwQhdjv23gaEcllJGKVoqLb7W6ajvevvza3PgWruXH9ZkVl5eILoYppF/dd8ofbr06nQ8mTge53O44dENUygFfCqHUigN3V84DBzIGciEwVaD7b0QHncAdBXd2FiAF8HIecR1UhpjoNMk5eq0hRlSmP7o5MeZzU1B3yONzfvhmnYRhObdLafGTc4l1WT7tq+tIho8jUTqQ5d07grqYzHe1L9hnBVRQDhpDM6uvPftdUNxdP3//mzwGFZhCac3FpiU8DF0KoJauVWnXuICfmtOn6LTGDGzNOWvI0xpjKeH+8uwVVJi5qZiqlhq5ztSqac3b3UotalaoXF2Gz2T4c3k7TsNvtUkzIIfXXyIkATc2gOkKpOfTbUi+Yo3kVqUyBAgOHdty8aUucgeRcpiGldg53DZFdJA/DNBwBTLVozdN4aoci5XEQEUQseToe7obTERHNHZGaDAjBVM6XdQ0+RATBfSaXcaXaVpeAhGgUQgwxzMC5iS6GSAGJANTH4U1AHB6mu1cXu6sX4DqVwQGJwGoFcHUkgPE0xBhMiprGmJDZETn0gcldVKqpSh7IlQlOD/fTaSBEDq1aD0utXd9LLuMwNLw8jRNikiq1lmE8Ho+Hrkttj5ZS98TmZga15NBtA5ETqhSRYiJm4kD9hts2R2QEV63ohICSpzwczTYxbQKHUcp4emjjcBpx7gDkME1ZPY+nB0QOge/v3pyOpyVbKaq5NeoQkVlp8P8cei46Pjc5+tLIdU53AmKIFPq+B4eWD1HVUkqIc3FcSqFV64LVw+3XIV0iSBO4m9QyIZITmKiJEW60VmJ28Hbg3KbfuJlJno73VYpUIfcynMqUVbXZrGagmuk8nk5TntqTFFE7TUwwTSeRSU2nqeUgpa827g6Gvul6cCBAV0UHkzbFwQAopQ4B3QzmJhpHB61C4C0rYaJ5GlOXrBZAi32nqtM4usp0OE55qrWY1S6lWmQ4nQ73h1wmkQqgw3gcp2zmxAzQcOtcFHJ+LEhTl5WMOvcBjZ1tPww1lzYxrMlns+nN62LVIMVYiuc8qd2l45u+32opgUmtuItUBQAO0VzdTEWIKHHIIo5qLrVMdXwwya61laGvQ+JamxEAAM2j+0655CJ9AiLKUu8fhuvLy65zNQy8QWIzfDhMX033HjYv+q1IrXUSLUQhdamPERFUtd9cxNRZ605GtFpEKrqriDEHjszRHcbTAWkLUtxqKVKmacrZTd1LlUlVTBQD5TI9PDyUmksZ8zSo6phzLYbI4C5VG4nZ1npNLDY1Wn0y0TxPuK3+WnEEAEFaOhQxl4mQzCtTgBCYnbhBHyVC09Pdqz+8evZxClupWb2Ct2FGXsukotlVxEIKtWQ3o01PgaRWV0ViqFklWxv2jqCq5jaVDMshFFWlVFUFEaiSHw5jkamv/XA7bbvt1c2Nm56Opz/57Ms3d4enLz5C9NPhrZQc4yb1HaBumyqYSi1qFlIiZis1D6eWzlWtNB86C25lPNzq1EmdkFnzVPPooqVOh8O9O/ZdJ1Sz5GE4qhSteRwHNc25DkMhpBDbzGFrFYwNyDSHYXOz9OM+KKUQc4qx4dFGV8TIMYR51omaDcchhhhT5LniCkspc/xFpGrk5fD2j/v+addfAwRCq5pbppBDBMSYggPUWkK3u7h6EWKPAKWgE+ZSzBFDBCRoR9U2ogaxllINxmGqIuBwe3//9vZ2HEcib4ek7i+uBGi33bx+e/v7f/BHY7U//OMfx0QJrUudaMv22d3bVxfX7xEFqQWluFmIEVTdhZjNlJgaiQgO03Cbx4fpBP1ul2IEF1cxKcPhjky77d4cEeT+zSsrUymjSEE1MxvGXEQBFEulwK7SGnaIsVX+qgozt/aXKgruiMDcOm+4lYbEQCEyugW0oFqYo7mrepcwxahWW9OPmW77fs6uUkCCWmqt98xpd/2xuykciYEozC3wZmYKGEK/7/dXMSY3RQwpbQe8j93WsTjW4zSKAwCIuEgxs1xkGLKpHI6nP/zjP7q9u4uREWUqGmJ4cn316vWrq4tdzqPmhzevjr/3e793vLt/8eJpK1La7zfb3dUv/Oq3askAjsSE4GVyKY6qUh3BVENMrQ+T0KVkN2BmVRepoBW8Dqe78XjY9D2CDMeHuzdvTg8nRJKczS2rHsc8TKVKLbWYGs6508AEzBgCkbPZnHNHcnMjgj4mQjKYcWZKgVADOVNQkbDdb0xdxS8vLjkYkrrZNGnfE3MAonbuWkMR5lbLdDx+it319vL5rr90BCdmInCdTifJI7hzuiTiKtWrIJLJHHyb1pqHMgzTNA1jIeIYogOehuF0ym9ev/rJ5198/uqrhLRJGKNve7q5wcv9uN34rqs3vV1+9/q7H1z3SUP+6u7LtwZo6ttN9/6H33KZTvdvzC12277fAORhOoaQXA0lUUiu1ZEdQDUjUkidm5zuXgGoi1CAw+3rYThFvj58eXt7+7ZKqeIicBym4zBNRQFDqXI6nbQdAqtKyEGDu0E7PZAIwFv9TiBGRA5tMu08KhURzMQRECxQSF0XUozZa4zMTOauoomjaTFzwsaktAZ2NFUCYMeO7P6r/7jW8erZx5vtNYUUYtJSRLAK5DJhiFWkCx2Alfxwe/vVeDiM4yBST8fT/eFhGPM45RBSl7rPPv/ii6++msZTmcZthF/53of7bZciAwKzb7Zxu+0Ts2lB8+2Nf/dbT/oU0DH1TG6m1kW42t/VT//WW0saLwfpKW63F/tay373pO92cbvpuk0ZJG42UqpKRQAz15qH48N4OppbznUYTjnn4+nLYThVkVLt4ThN1epUIRJSLDmPY1aVltojYndobKabivsc0qIHJmaMIXSROYQYQwhESCEQEyRmZgpEoWXPwZCCIzkoxJjMrOtSnmQp5gVmqqJgZqIpEKUw5dOrH//O/du7p+9/stlfEYTYdUj29u3Xn37+xSnnDz/8aLuNx7evvv78j+5u3z4cx1LL6TS+en17OJ6GYTTHwARah+HYJ3//yf759dP9NqUUU+w44qbv1GTu7kJA9EDUdZGYYhcRIAQCtRCCuUHgogY2MNSUpTzIT35cHk7S75+/+MbH/eai3+1T2m50J1UAyRzc5eH+9ng85SLO4XaY3r46OsDD4TSME4JLLWLgRmKYML16/er+/raUiZkBqrfz1BxjiDEEJO+7FGZjT5EpxkCEgZiZiYkZVWoI0McUiEIgMQXw8PBwZIotnd+OMQNEJgyMgF5FCMJwmlRqjAERa63mDuAR5fj175/e/NjD5tmLb/b7y6++/OJ3fuu3Dsfjw9d//NWPngyn06uvvzocDuA85JxzDowOggg3236TaLdL1xdXXXqfGHabTesp6bu43XVG0IUYQxu6ZKWUvo9qJlXN4PJyZyKqEDcB2qjcGKcihETuIYXdNl1e9OM4FnnIr3/vvnj1uN0/u37+sig9f/lNwDiN96WqElXg2zcHYjZMVf362Ut5/dpUFRJolVLU8dWr12/fvK5SGoLvUkpd3KTUx4gAIVHqQkopBSbEdoQOATBh18WGh83Bmd2tiyxqtQoGNJfAFJgpRmopAkJAIlOrUmMMMcZAQURTJECIXQfaDhVXJn5yvTcTtWN++4d6CClPv/SdK8KrkNjgbmu5e0L+5AqR1Kzvust9jwTiyOSgQJEDsUglJAdkphjZEQJzFnXVbAouIRJTUgUCDiGI1GkYkSjEpOqIrm5WKyJCaAMIwqTmDtxvt+CoPoynPB30eLidfjJJCH4qym9e33Z9//bNw5Dz4TBcX1/WKe9unl5cbN6+fn18eGh9d17HhJ7w+NHLiy7FfhO61AUKqQsIEJjmTjqmEEOKwQ3M5oMa1c0VUiI1QyQ3z3kChJDYqrfTfAKgi1bL6K6p65gw59x1/Wa7cVsJJigiIcSSKyKEGFp9cs6ZKNYiZiUBbDcxXO1qrabKnPquv7y4gJajcA0cQ2TEVqOo3HMMARBLxlpr43LNkSIDQCA29YbtQuAYEjO5SxXvUmegqevc3dREFQn7TQ+OzEwEqsbM7mTmiISMbBaA+xAAfQ+ghx+VXFOVOmEvGa12HYY63PTDZfB6lPf6w817Dd0hYJJaY7oGQgJup7QREiDmokjEBDH0re2xMWRtDjYRBcDs0jpwDDQG5pCImIk8IgIQczgcRkIT9e22I5KKxsgIllLUNuXJxMFiTLVUQIwBx1IIsbVUMFHqeldBxFzKeBhac7iOSgRtxkE7AqjkUo1a12xr0S55ahQIkSIxEztiK+NOMUJwREDyLkV3FNMYuY8E7hh6BKilqJkjBA6BGUNEjgRAWgmxiAHO48RS6lpR6DLRwQkgkJroxZ4vHIch1yJ9BLQhADy56dWsihGgmk3ofZ9MVB3UvU/BDAB5u421VnDgAGYEbQoZWC7aoGOMnFKoauiOBGqtmkI8BCKKKRFRuLm5aGO0a621tm4QB0efqmkrrDapcnGxb8hSs3LkSYWR1IEBW/PZZpPcY79hU89imw2YW2luTB0hUABxZ/IUCAyIuHUq1CpEXN3Rgd21CHAoeUhdUkUkNy1d3wEhMKsYI0rWEBkguAkSbzYbNQ+MAKjugAQc0D10Dg7TOIIBh+DgKfF0nGqRaZJaJMRwmioSGqAjpZ6BENRqNTdwAwwIxoETISlYSAGtkXBQS210kJraVGbuxpbSzXYuneI4ZgBkBg4RADebOI3V1Mxc6qiqIQZEakVhkQhUnYhU7HQ6mXkMDMQxxpiYA7JAnjDGqFpag4qoMgIA1wqGYO5pkzaBUUFMNr1xjLWII4haqyGwqs7oAN1mE4lq0RD4og/qoGKtqJFiULPNvgMADixmqMDSjh4ErWYZAL3f7hHQDKuqTxp7RmQibgMbVDSPVXKN+9SYylJdDKRaYFIOw1TMIY+lS6HbdWZ4Ok2mRgQUSCcTbYmUCoAOoFVS1x3GCcCZKIYAxK3IJ+cSYyIGU2gNUgSoarEdRzyVEKjroogSMQeqpdaqIXB4eGhy4BhDCNFdERiJUgrMbG1iEOE0iRmkFJjRADnGro+l1HYoSIoMhF3oDBzJHVzN0dHMmdw7ZuCWBScwJKLAgamUWifhLXcpEoEzd32noqWIuZdcApBaJQzEEcAVjNxLJU7B3ZE49hEMkLin3kykFiIu6kycS9FaWyEpVedIAJBiQrcy5pyruXEMVi1EFrc66lxr72DVY2yY0EUtpehOHNFErVZ2wECp0TOBuk3XmoFrFTcn5q5LVUSqMGEIHTOGEBBQxVQc0VUMABsxEbpNKBOaWS1asqZELWzjMMNYFTFzDsSAMVJLsLVzN2PgWpQYTIUcYuRAXFWIIPYRWheDe63qgVpvsjGBmysEAFCIfeKAKnO/yjiMoKAO7h6Y545pYiQSKZIVEdwgRmoD/lwxpmBFQgyOWou6FQeQqoFZi2IM7jYNOfXBHUK002kMfSqqVtWtzSvjqlqKtCwmMwWe07mEGgIRU8lz+TQmBhATgIgUYBozInebsI5QbQ8SAwcmqSpSVdEU1KpnBwAOLXIGQFDVgEB9T+20O6kSI5dsyLUNe1AxJCRq44dMjbydXuPQZuwQN2tu7j4OmSOaYYxhKhkBliMziBCzGrp7Lc4QQmAOGJkDoUMbXgGO01hjDG18pJkwcUTkgLUaAsdEoNpGhMQYETBEjimVcRqHiUMbkG9u0CaYxZ7bxAGFqqKAWLK5u6MhUgyb2OE0VjfsGLfbTkQDcVWFRhyYq5mKDMfS97HtYARAYlURnKviKXCt4mZu3lgzZlS1PAkHbE011E5UZ3M3EQGCPoVq7uJBKwCZVwshAHitGmIb90e1qhua6WaT4LGTFhA5dURtENRM6gdEdDM1CYHyVAJTKba9SLUaoUsphAiEFNrAG6hV2igEK6LgudRu2/ddRGJRRxUMlBKLaCkaYwBiN8cYVWsb7IIECDYNAyC0GTPgjuwUGQBVqqqYmhiYugN0XTTTvu+L1O2uE1UivOpDbhVl4iFAqdL3YRyKiHDgrguTOjGZWtezqhVxYgRFqdb17OIqRa1NFyZwlOY3Wta8akuxDcPUb7uxZCImRGrNqcUALQA6EQKDm4YQprEABAArVRAopsDMORdCojB3pHIMeoKujxw4IiKgE+SxtBlEqtqauzlhKaLVNpvkBCVLCKEdA5hSGMaaUlAQBZ2mEphrqTExmOUpi+juYpuLmisiALpJq9xwrTWEgAwukEX7beJAp+OEiCEyEoG5utg8+xdrKYhtwLDGRCVXlXlMninXLKIeO8yTOjjTXEgESGYuxdWs6zhnqbUV5YOKAaIUjUyAQMgU3bQdZwEujgFCYAREYlffbhITccC+36s5IdQiKi3GolBrCQDSzi5WN/XqknreblPJ2ooukMI8orcdt5YNwDxb8hhjVHMtioRSDBHZ4XTKIRKHEEKIiQHB1Q1MVTkgEqt730c3L6V6VSZSUwQ8nZQIp6mGSKpWc60im22HOA+JRdTAXUNf5FCyhD7oJDExEZdcwTEm7rqk1UUVEDhQniSmIHU++jelOI65Vk3JrZ3nqRgSaIUGUfYE01jdidhCiibSdQSAuZpB0zxUgVZaQYGt1opOGEQVyVWN2bqeiRjRVd2x7QQoRYqainddCJFUPIxjwQxMbCYdhRDJAaZBiAQR1QAUQyKOCEbm3k7yYSZmqlndgYliDOOQVYGDm0O3SdDOC1ONMaqaivVdcncHjx3XLOpz3QwEMnEODAxQfRoLBYo9nw4nByDG02lMIbTWH2biwAgwTWXTxRRZszhijLjUlDk716pzqwGQOyESMacuImKtkqcSIxNTa3FnRFNGDIhWq9WqXR85oplrNkBjCm4aAjebKWbususTcTD0YRhD5MDOTJNQTCQipdSuI5ESAuZsCOiEahYiEQETWqsCBg1E7t7GtEDNgh0jBDM1Q3PpUlR3r9Za+VQtRgIGdypZARGFqlXwWkWIoB2BGJgdME+CiKVUEWMiL8YcVA1c8rECu6OHQA4EaK2XIQTGDs1NswCwOxASMYphDGTqZurgJdeYorhjoFqFQzt+CcEtdXEp4vNazM22uxQ7FlE1JeCaXQ04QuqipwC5hNCq9dAjTZOoWKumQrC0iXlqpdfc9zFRqll7tGlEqdoRkhk5BWRgqG4hELQK5hDcIQRszx4iDqcs1dSg6xlQVUxEQoz/fyDEVuVZGkDqAAAAAElFTkSuQmCC\n",
         "text/plain": "<PIL.Image.Image image mode=RGB size=128x128>"
        },
        "metadata": {},
        "output_type": "display_data"
       }
      ]
     }
    },
    "9f4986d55ca141c398aecc583fb65d45": {
     "model_module": "@jupyter-widgets/base",
     "model_module_version": "1.2.0",
     "model_name": "LayoutModel",
     "state": {
      "_model_module": "@jupyter-widgets/base",
      "_model_module_version": "1.2.0",
      "_model_name": "LayoutModel",
      "_view_count": null,
      "_view_module": "@jupyter-widgets/base",
      "_view_module_version": "1.2.0",
      "_view_name": "LayoutView",
      "align_content": null,
      "align_items": null,
      "align_self": null,
      "border": null,
      "bottom": null,
      "display": null,
      "flex": null,
      "flex_flow": null,
      "grid_area": null,
      "grid_auto_columns": null,
      "grid_auto_flow": null,
      "grid_auto_rows": null,
      "grid_column": null,
      "grid_gap": null,
      "grid_row": null,
      "grid_template_areas": null,
      "grid_template_columns": null,
      "grid_template_rows": null,
      "height": null,
      "justify_content": null,
      "justify_items": null,
      "left": null,
      "margin": null,
      "max_height": null,
      "max_width": null,
      "min_height": null,
      "min_width": null,
      "object_fit": null,
      "object_position": null,
      "order": null,
      "overflow": null,
      "overflow_x": null,
      "overflow_y": null,
      "padding": null,
      "right": null,
      "top": null,
      "visibility": null,
      "width": null
     }
    },
    "cd8beae3763f4d6f9a325639a573d533": {
     "model_module": "@jupyter-widgets/base",
     "model_module_version": "1.2.0",
     "model_name": "LayoutModel",
     "state": {
      "_model_module": "@jupyter-widgets/base",
      "_model_module_version": "1.2.0",
      "_model_name": "LayoutModel",
      "_view_count": null,
      "_view_module": "@jupyter-widgets/base",
      "_view_module_version": "1.2.0",
      "_view_name": "LayoutView",
      "align_content": null,
      "align_items": null,
      "align_self": null,
      "border": null,
      "bottom": null,
      "display": null,
      "flex": null,
      "flex_flow": null,
      "grid_area": null,
      "grid_auto_columns": null,
      "grid_auto_flow": null,
      "grid_auto_rows": null,
      "grid_column": null,
      "grid_gap": null,
      "grid_row": null,
      "grid_template_areas": null,
      "grid_template_columns": null,
      "grid_template_rows": null,
      "height": null,
      "justify_content": null,
      "justify_items": null,
      "left": null,
      "margin": null,
      "max_height": null,
      "max_width": null,
      "min_height": null,
      "min_width": null,
      "object_fit": null,
      "object_position": null,
      "order": null,
      "overflow": null,
      "overflow_x": null,
      "overflow_y": null,
      "padding": null,
      "right": null,
      "top": null,
      "visibility": null,
      "width": null
     }
    },
    "d42844491b104fe5b6e077230c5bb2df": {
     "model_module": "@jupyter-widgets/base",
     "model_module_version": "1.2.0",
     "model_name": "LayoutModel",
     "state": {
      "_model_module": "@jupyter-widgets/base",
      "_model_module_version": "1.2.0",
      "_model_name": "LayoutModel",
      "_view_count": null,
      "_view_module": "@jupyter-widgets/base",
      "_view_module_version": "1.2.0",
      "_view_name": "LayoutView",
      "align_content": null,
      "align_items": null,
      "align_self": null,
      "border": null,
      "bottom": null,
      "display": null,
      "flex": null,
      "flex_flow": null,
      "grid_area": null,
      "grid_auto_columns": null,
      "grid_auto_flow": null,
      "grid_auto_rows": null,
      "grid_column": null,
      "grid_gap": null,
      "grid_row": null,
      "grid_template_areas": null,
      "grid_template_columns": null,
      "grid_template_rows": null,
      "height": null,
      "justify_content": null,
      "justify_items": null,
      "left": null,
      "margin": null,
      "max_height": null,
      "max_width": null,
      "min_height": null,
      "min_width": null,
      "object_fit": null,
      "object_position": null,
      "order": null,
      "overflow": null,
      "overflow_x": null,
      "overflow_y": null,
      "padding": null,
      "right": null,
      "top": null,
      "visibility": null,
      "width": null
     }
    },
    "d74808fbfe8a42e392a229f8d3463f3d": {
     "model_module": "@jupyter-widgets/controls",
     "model_module_version": "1.5.0",
     "model_name": "VBoxModel",
     "state": {
      "_dom_classes": [],
      "_model_module": "@jupyter-widgets/controls",
      "_model_module_version": "1.5.0",
      "_model_name": "VBoxModel",
      "_view_count": null,
      "_view_module": "@jupyter-widgets/controls",
      "_view_module_version": "1.5.0",
      "_view_name": "VBoxView",
      "box_style": "",
      "children": [
       "IPY_MODEL_4917ac869305445e8dd29878c7699094",
       "IPY_MODEL_28ce59b6b85042bf9f0479c4f3fce90f",
       "IPY_MODEL_9a7982eb8217454098ca277238e16e5e",
       "IPY_MODEL_895f9154dac8474fbcadbf18a1f4fa3a"
      ],
      "layout": "IPY_MODEL_33926f5bd2574683bf99eb28d1bcab72"
     }
    }
   }
  }
 },
 "nbformat": 4,
 "nbformat_minor": 1
}
